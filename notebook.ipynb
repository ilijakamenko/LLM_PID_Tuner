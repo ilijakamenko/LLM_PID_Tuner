{
 "cells": [
  {
   "cell_type": "code",
   "execution_count": null,
   "metadata": {},
   "outputs": [],
   "source": [
    "MODEL_NAME=\"gpt-4o\" # {gpt-4o, deepseek-v2}\n",
    "MODE=\"balanced\" # {speedup, reduce_overshoot, balanced}\n",
    "AGGRESSIVNESS=\"moderate\" # {aggressive, moderate, fine}\n",
    "\n",
    "import control as ctrl\n",
    "from pid_controller import PIDController\n",
    "from main import main\n",
    "from delay import delay\n",
    "\n",
    "s = ctrl.TransferFunction.s\n",
    "#G6 Process for Speedup mode\n",
    "L = 0.5\n",
    "T = 0.5\n",
    "plant = 1 / (s * (1 + T * s))*delay(L)\n",
    "pid_initial = PIDController(Kp = 0.45, Ti = 8, Td = 0.5)\n",
    "\n",
    "#G5 Process for Reduce overshoot mode\n",
    "# T = 0.1\n",
    "# plant = 1 / ((1 + s) * (1 + T * s) * (1 + (T**2) * s) * (1 + (T**3) * s))\n",
    "# pid_initial = PIDController(Kp = 4.29, Ti = 0.44,Td = 0.05)\n",
    "\n",
    "#G7 Process for Balanced mode\n",
    "# T = 1\n",
    "# L= 0.1\n",
    "# T1=1-L\n",
    "# plant = T/ ((1 + T * s) * (1 + T1* s))*delay(L)\n",
    "# pid_initial = PIDController(Kp = 1.24, Ti = 1.1, Td = 0.27)\n",
    "\n",
    "\n",
    "df=main(pid_initial=pid_initial, plant=plant, model_name=MODEL_NAME, mode=MODE, aggressiveness=AGGRESSIVNESS)\n",
    "display(df)\n"
   ]
  }
 ],
 "metadata": {
  "kernelspec": {
   "display_name": "Python 3",
   "language": "python",
   "name": "python3"
  },
  "language_info": {
   "codemirror_mode": {
    "name": "ipython",
    "version": 3
   },
   "file_extension": ".py",
   "mimetype": "text/x-python",
   "name": "python",
   "nbconvert_exporter": "python",
   "pygments_lexer": "ipython3",
   "version": "3.9.13"
  }
 },
 "nbformat": 4,
 "nbformat_minor": 2
}
